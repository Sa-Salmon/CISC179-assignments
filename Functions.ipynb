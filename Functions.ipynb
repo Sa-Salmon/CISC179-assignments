{
  "nbformat": 4,
  "nbformat_minor": 0,
  "metadata": {
    "colab": {
      "provenance": [],
      "include_colab_link": true
    },
    "kernelspec": {
      "name": "python3",
      "display_name": "Python 3"
    },
    "language_info": {
      "name": "python"
    }
  },
  "cells": [
    {
      "cell_type": "markdown",
      "metadata": {
        "id": "view-in-github",
        "colab_type": "text"
      },
      "source": [
        "<a href=\"https://colab.research.google.com/github/Sa-Salmon/CISC179-assignments/blob/main/Functions.ipynb\" target=\"_parent\"><img src=\"https://colab.research.google.com/assets/colab-badge.svg\" alt=\"Open In Colab\"/></a>"
      ]
    },
    {
      "cell_type": "markdown",
      "source": [
        "# Functions in Python\n",
        "Functions are designed to perform the same task repeatedly. For the user, they operate like a black box, with no visibility into how the function is implemented. Users provide compatible arguments to the function, or in some cases, no arguments at all, and the function executes according to the programmer's implementation.\n",
        "\n",
        "## Objective\n",
        "- Understand how arguments are used in functions\n",
        "- Function variables visibility and global variables\n",
        "- Troubleshoot functions\n",
        "\n",
        "## Prerequisite\n",
        "\n",
        "- Lists & tuples\n",
        "- Decision and loops\n",
        "\n",
        "\n",
        "## What do you need to complete this exercise?\n",
        "\n",
        "You can perform this exercise in any Python IDE, including JupyterLab or Google Colab.\n"
      ],
      "metadata": {
        "id": "2ITy4ycVFXBq"
      }
    },
    {
      "cell_type": "markdown",
      "source": [
        "# Create a unit conversion program using functions\n",
        "1a. The user selects kilometers per liter (kpl), and the response will be provided in miles per gallon (mpg). The units must be interchangeable, so the program will ask the user whether to convert from kpl to mpg or vice versa.\n",
        "\n",
        "The program will prompt the user for input and deliver output with the appropriate units.\n",
        "\n",
        "Additionally, the program will include input validation. For example, it will not accept letter inputs and will provide an error message to the user when invalid input is detected.\n",
        "\n",
        "The function will also allow multiple arguments, enabling the user to convert multiple values at once.\n",
        "\n",
        "Research and find out the conversion factor between the units."
      ],
      "metadata": {
        "id": "uQxH0KO0tsDc"
      }
    },
    {
      "cell_type": "code",
      "source": [
        "def convert_fuel_efficiency(direction, values):\n",
        "    \"\"\"Convert fuel efficiency between kpl and mpg.\"\"\"\n",
        "\n",
        "    KPL_TO_MPG = 2.35215\n",
        "    MPG_TO_KPL = 0.42514\n",
        "\n",
        "    converted_values = []\n",
        "\n",
        "    for value in values:\n",
        "        try:\n",
        "            num = float(value)  # Convert input to a number\n",
        "            if direction == \"kpl_to_mpg\":\n",
        "                converted_values.append(f\"{num} kpl = {round(num * KPL_TO_MPG, 2)} mpg\")\n",
        "            else:\n",
        "                converted_values.append(f\"{num} mpg = {round(num * MPG_TO_KPL, 2)} kpl\")\n",
        "        except ValueError:\n",
        "            return f\" Error: '{value}' is not a valid number.\"\n",
        "\n",
        "    return \"\\n\".join(converted_values)\n",
        "\n",
        "\n",
        "print(\" Fuel Converter: kpl ↔ mpg \")\n",
        "while True:\n",
        "        direction = input(\"Convert from (1) kpl to mpg or (2) mpg to kpl? (Enter 1 or 2): \").strip()\n",
        "\n",
        "        if direction == \"1\":\n",
        "            conversion_type = \"kpl_to_mpg\"\n",
        "        elif direction == \"2\":\n",
        "            conversion_type = \"mpg_to_kpl\"\n",
        "        else:\n",
        "            print(\" Invalid choice. Please enter 1 or 2.\")\n",
        "            continue\n",
        "\n",
        "        # Ask for values\n",
        "        values = input(\"Enter values separated by spaces: \").split()\n",
        "\n",
        "        # Perform conversion\n",
        "        result = convert_fuel_efficiency(conversion_type, values)\n",
        "\n",
        "        print(\"\\n Conversion Results:\")\n",
        "        print(result)\n",
        "\n",
        "        # Ask if user wants to convert again\n",
        "        again = input(\"\\nWould you like to convert again? (yes/no): \").strip().lower()\n",
        "        if again != \"yes\":\n",
        "            print(\"Goodbye! Drive safe! \")\n",
        "            break\n",
        "\n",
        "\n",
        "\n"
      ],
      "metadata": {
        "colab": {
          "base_uri": "https://localhost:8080/"
        },
        "id": "C3_HeYw-pgZv",
        "outputId": "9a386714-b357-42e9-de96-f3b2171a8e50"
      },
      "execution_count": 22,
      "outputs": [
        {
          "output_type": "stream",
          "name": "stdout",
          "text": [
            " Fuel Converter: kpl ↔ mpg \n",
            "Convert from (1) kpl to mpg or (2) mpg to kpl? (Enter 1 or 2): 1\n",
            "Enter values separated by spaces: 45 36 200\n",
            "\n",
            " Conversion Results:\n",
            "45.0 kpl = 105.85 mpg\n",
            "36.0 kpl = 84.68 mpg\n",
            "200.0 kpl = 470.43 mpg\n",
            "\n",
            "Would you like to convert again? (yes/no): no\n",
            "Goodbye! Drive safe! \n"
          ]
        }
      ]
    },
    {
      "cell_type": "markdown",
      "source": [
        "1b. How would you write a function that could take any number of unnamed arguments and print their values out in reverse order?\n"
      ],
      "metadata": {
        "id": "0jkTuRdlA6sk"
      }
    },
    {
      "cell_type": "markdown",
      "source": [
        "Since  you can us * to accepte any unnamed argument then I would use the reversed() function to print their values out in reverse order?"
      ],
      "metadata": {
        "id": "G3IdFIJitD9T"
      }
    },
    {
      "cell_type": "markdown",
      "source": [
        "1c. What would be the result of changing a list or dictionary that was passed into a function as a parameter value? Which operations would be likely to create changes that would be visible outside the function? What steps might you take to minimize that risk?\n",
        "\n",
        "Explain the above statements with the help of code."
      ],
      "metadata": {
        "id": "sL7k6J70zdzH"
      }
    },
    {
      "cell_type": "code",
      "source": [
        "def change():\n",
        "  my_list.append(7)\n",
        "  my_dict[\"major\"]= \"Computer Science\"\n",
        "  print(my_list)\n",
        "  print(my_dict)\n",
        "\n",
        "\n",
        "my_list=[1,2,3,4,5,6]\n",
        "my_dict={\"name\":\"Sarah\", \"age\":\"21\", \"City\":\"San Diego\"}\n",
        "\n",
        "\n",
        "print(change())\n",
        "print(my_list)\n",
        "print(my_dict)\n"
      ],
      "metadata": {
        "id": "8ZIVOfAMQt2Z",
        "colab": {
          "base_uri": "https://localhost:8080/"
        },
        "outputId": "28b7ce04-04cf-4e2c-b4c6-645e754a853e"
      },
      "execution_count": 35,
      "outputs": [
        {
          "output_type": "stream",
          "name": "stdout",
          "text": [
            "[1, 2, 3, 4, 5, 6, 7]\n",
            "{'name': 'Sarah', 'age': '21', 'City': 'San Diego', 'major': 'Computer Science'}\n",
            "None\n",
            "[1, 2, 3, 4, 5, 6, 7]\n",
            "{'name': 'Sarah', 'age': '21', 'City': 'San Diego', 'major': 'Computer Science'}\n"
          ]
        }
      ]
    },
    {
      "cell_type": "markdown",
      "source": [
        "Since they are mutable objects those changes will be visible outside the function. To minimaze risk you could pass a copy of the list or dictionay to function."
      ],
      "metadata": {
        "id": "FsQvv1aEyHrl"
      }
    },
    {
      "cell_type": "markdown",
      "source": [
        "1d. Assuming that ```x = 5```, what will be the value of ```x``` after ```funct_1()``` below executes? After ```funct_2()``` executes?\n"
      ],
      "metadata": {
        "id": "1wWF-wZx2h9s"
      }
    },
    {
      "cell_type": "code",
      "source": [
        "x = 5\n",
        "def funct_1():\n",
        "  x=3\n",
        "\n",
        "def funct_2():\n",
        "  global x\n",
        "  x=2\n",
        ""
      ],
      "metadata": {
        "id": "nvd-xB2v3AYh"
      },
      "execution_count": 19,
      "outputs": []
    },
    {
      "cell_type": "markdown",
      "source": [
        "After funct_1 is executed, x will still equal 5 as the function creates its own local variable x. However, after funct_2 us executed it will equal 2 because it modifies the global x"
      ],
      "metadata": {
        "id": "Huq5SODSn1Xz"
      }
    },
    {
      "cell_type": "markdown",
      "source": [
        "# 2. Troubleshooting"
      ],
      "metadata": {
        "id": "tJlIQIYjBPLX"
      }
    },
    {
      "cell_type": "markdown",
      "source": [
        "Correct the following code. There might be more than one correct answers. Explain your reasoning."
      ],
      "metadata": {
        "id": "V8HkUVFy6DlD"
      }
    },
    {
      "cell_type": "code",
      "source": [
        "def my_func(a,b,*c):\n",
        "  print(c)\n",
        "\n",
        "my_func(1,2,3,4,5,6)"
      ],
      "metadata": {
        "id": "bJzMzbxIsAU9",
        "colab": {
          "base_uri": "https://localhost:8080/"
        },
        "outputId": "8f5ab3b8-3807-477d-bf68-4824027f18ac"
      },
      "execution_count": 10,
      "outputs": [
        {
          "output_type": "stream",
          "name": "stdout",
          "text": [
            "(3, 4, 5, 6)\n"
          ]
        }
      ]
    },
    {
      "cell_type": "markdown",
      "source": [
        "Since there were not variables assigned to the list of my_function it should be creating a tuple not a dictionary."
      ],
      "metadata": {
        "id": "A6sraAnsiG4t"
      }
    },
    {
      "cell_type": "markdown",
      "source": [
        "Using the following code, x should print 100 but it prints 10, why?"
      ],
      "metadata": {
        "id": "sYDRYXa9vbX4"
      }
    },
    {
      "cell_type": "code",
      "source": [
        "def my_func_global():\n",
        "  x = 100\n",
        "\n",
        "global x\n",
        "x = 10\n",
        "my_func_global()\n",
        "print(x)"
      ],
      "metadata": {
        "id": "w93b1OeVNYuf",
        "colab": {
          "base_uri": "https://localhost:8080/"
        },
        "outputId": "7239f9c8-8827-43cf-ec35-5882ab11ad6c"
      },
      "execution_count": 15,
      "outputs": [
        {
          "output_type": "stream",
          "name": "stdout",
          "text": [
            "10\n"
          ]
        }
      ]
    },
    {
      "cell_type": "markdown",
      "source": [
        "Since global x was called outside of the function and then x was defined a 10 it causes x to =10 even in the function."
      ],
      "metadata": {
        "id": "R_jSuJGymf4X"
      }
    },
    {
      "cell_type": "markdown",
      "source": [
        "## Challenges\n",
        "\n",
        "Please describe the challenges you faced during the exercise."
      ],
      "metadata": {
        "id": "xQzjxKdvvbyo"
      }
    },
    {
      "cell_type": "markdown",
      "source": [
        "A challenge I faced during this exercise was figuring out how to incorporate the function proper in my main code so it would execute the way I needed it to."
      ],
      "metadata": {
        "id": "qfJNpTB5EbY4"
      }
    }
  ]
}