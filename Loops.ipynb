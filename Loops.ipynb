{
  "nbformat": 4,
  "nbformat_minor": 0,
  "metadata": {
    "colab": {
      "provenance": [],
      "include_colab_link": true
    },
    "kernelspec": {
      "name": "python3",
      "display_name": "Python 3"
    },
    "language_info": {
      "name": "python"
    }
  },
  "cells": [
    {
      "cell_type": "markdown",
      "metadata": {
        "id": "view-in-github",
        "colab_type": "text"
      },
      "source": [
        "<a href=\"https://colab.research.google.com/github/Sa-Salmon/CISC179-assignments/blob/main/Loops.ipynb\" target=\"_parent\"><img src=\"https://colab.research.google.com/assets/colab-badge.svg\" alt=\"Open In Colab\"/></a>"
      ]
    },
    {
      "cell_type": "markdown",
      "source": [
        "# Loops in Python\n",
        "\n",
        "A sequence of instructions that repeats until a certain condition is met\n",
        "\n",
        "## Objective\n",
        "Understand how loops are applied\n",
        "\n",
        "## Prerequisite\n",
        "\n",
        "- Decision statements\n",
        "- Input functions\n",
        "- Python literals\n",
        "- Programming variables\n",
        "\n",
        "## What do you need to complete this exercise?\n",
        "\n",
        "You can perform this exercise in any Python IDE, including JupyterLab or Google Colab.\n"
      ],
      "metadata": {
        "id": "2ITy4ycVFXBq"
      }
    },
    {
      "cell_type": "markdown",
      "source": [
        "### While loop\n",
        "\n",
        "a. Please write Python code using a while loop to perform the following steps.\n",
        "\n",
        "1. Take any non-negative and non-zero integer number and name it ```n0```\n",
        "2. if the number is even, evaluate a new ```n0``` as ```n0 ÷ 2```;\n",
        "3. Otherwise, if the number is odd, evaluate a new ```n0``` as ```3 * n0 + 1```;\n",
        "4. if ```n0``` is not equal to 1, go to point 2.\n",
        "\n",
        "#### Sample input: ```16```\n",
        "\n",
        "#### Expected output: ###\n",
        "\n",
        "```\n",
        "8\n",
        "4\n",
        "2\n",
        "1\n",
        "steps = 4\n",
        "```"
      ],
      "metadata": {
        "id": "uQxH0KO0tsDc"
      }
    },
    {
      "cell_type": "code",
      "source": [
        "# Write your code here.\n",
        "x=8\n",
        "i=0\n",
        "while(x>=1):\n",
        "  print(x)\n",
        "  x=x//2\n",
        "  i=i+1\n",
        "\n",
        "i= str(i)\n",
        "print(\"steps = \"+ i)"
      ],
      "metadata": {
        "id": "5M7ksW8xsC3k",
        "outputId": "fca9d4e8-65ac-4df7-dcca-30c9688f4b67",
        "colab": {
          "base_uri": "https://localhost:8080/"
        }
      },
      "execution_count": 7,
      "outputs": [
        {
          "output_type": "stream",
          "name": "stdout",
          "text": [
            "8\n",
            "4\n",
            "2\n",
            "1\n",
            "steps = 4\n"
          ]
        }
      ]
    },
    {
      "cell_type": "markdown",
      "source": [
        "b. Write code that uses a while loop and runs indefinitely. Modify the same code to resolve the infinite loop issue."
      ],
      "metadata": {
        "id": "S3X6hdy5sI-s"
      }
    },
    {
      "cell_type": "code",
      "source": [
        "x=5\n",
        "while(x>0):\n",
        "  print(x)\n",
        "  x=x+1\n",
        "# since x will always be greater than 0 the loop will never stop"
      ],
      "metadata": {
        "id": "lPOe9KSb5q3K"
      },
      "execution_count": null,
      "outputs": []
    },
    {
      "cell_type": "code",
      "source": [
        "x=5\n",
        "while(x>0):\n",
        "  print(x)\n",
        "  x=x+1\n",
        "  if(x>10):\n",
        "    break"
      ],
      "metadata": {
        "id": "Znu-EBeA68XW",
        "outputId": "ae6b712b-78a4-479e-97c0-5c297aa5024a",
        "colab": {
          "base_uri": "https://localhost:8080/"
        }
      },
      "execution_count": 13,
      "outputs": [
        {
          "output_type": "stream",
          "name": "stdout",
          "text": [
            "5\n",
            "6\n",
            "7\n",
            "8\n",
            "9\n",
            "10\n"
          ]
        }
      ]
    },
    {
      "cell_type": "code",
      "source": [
        "x=5\n",
        "while(x>0):\n",
        "  print(x)\n",
        "  x=x-1\n"
      ],
      "metadata": {
        "id": "FjmLxByE7JrZ",
        "outputId": "7e7b9e1f-5aa3-458f-e6c4-c9df7f8fbbd0",
        "colab": {
          "base_uri": "https://localhost:8080/"
        }
      },
      "execution_count": 14,
      "outputs": [
        {
          "output_type": "stream",
          "name": "stdout",
          "text": [
            "5\n",
            "4\n",
            "3\n",
            "2\n",
            "1\n"
          ]
        }
      ]
    },
    {
      "cell_type": "markdown",
      "source": [
        "c. Write a program that takes two integers as input and asks the user to choose an arithmetic operation to perform with those numbers. At the end of the program, prompt the user with the question, \"Do you want to continue?\" If the user selects \"Y\" or \"y,\" the program should restart; otherwise, it should exit and display the message, \"Have a good day.\""
      ],
      "metadata": {
        "id": "oxXvMBKNsX8M"
      }
    },
    {
      "cell_type": "code",
      "source": [
        "x = 1\n",
        "while x <= 1:\n",
        "    num1 = float(input(\"Enter a number: \"))\n",
        "    num2 = float(input(\"Enter another number: \"))\n",
        "\n",
        "    ops = int(input(\"To add them enter 1, to subtract them enter 2, to multiply them press 3, to divide them press 4: \"))\n",
        "\n",
        "    if ops == 1:\n",
        "        result = num1 + num2\n",
        "        print(\"Result: \", result)\n",
        "    elif ops == 2:\n",
        "        result = num1 - num2\n",
        "        print(\"Result: \", result)\n",
        "    elif ops == 3:\n",
        "        result = num1 * num2\n",
        "        print(\"Result: \", result)\n",
        "    elif ops == 4:\n",
        "        if num2 != 0:\n",
        "            result = num1 / num2\n",
        "            print(\"Result: \", result)\n",
        "        else:\n",
        "            print(\"Error: Division by zero is not allowed.\")\n",
        "    else:\n",
        "        print(\"Invalid option. Please enter a valid operation.\")\n",
        "\n",
        "    z = input(\"Do you want to continue? Y or N: \").strip().lower()\n",
        "\n",
        "    if z == 'n':\n",
        "        print(\"Have a good day!\")\n",
        "        x = 2  # Break out of the loop\n",
        "\n",
        "\n",
        "\n",
        "\n",
        "\n",
        "\n",
        ""
      ],
      "metadata": {
        "id": "w9Ai1I_JsYw9",
        "outputId": "c2d38cae-10d8-4b3c-b2c7-5508ba3d4ece",
        "colab": {
          "base_uri": "https://localhost:8080/"
        }
      },
      "execution_count": 35,
      "outputs": [
        {
          "output_type": "stream",
          "name": "stdout",
          "text": [
            "Enter a number: 300\n",
            "Enter another number: 25\n",
            "To add them enter 1, to subtract them enter 2, to multiply them press 3, to divide them press 4: 3\n",
            "Result:  7500.0\n",
            "Do you want to continue? Y or N: y\n",
            "Enter a number: 25\n",
            "Enter another number: 5\n",
            "To add them enter 1, to subtract them enter 2, to multiply them press 3, to divide them press 4: 3\n",
            "Result:  125.0\n",
            "Do you want to continue? Y or N: n\n",
            "Have a good day!\n"
          ]
        }
      ]
    },
    {
      "cell_type": "markdown",
      "source": [
        "### 2. For loops\n",
        "\n",
        "a. Write a code that counts the total number of characters in a text and also counts each character individually. For example, consider the sentence \"To be, or not to be, that is the question.\" The code should determine the total number of letters and how many times each letter appears, including specific counts for the letters 't' and 'o', etc. Ignore the upper and lower cases letters, and any punctuations symbols. Use only for loop, while loop, break and continue statements where necessary.\n",
        "\n",
        "#### Sample input: ```To be, or not to be, that is the question```\n",
        "\n",
        "#### Expected output: ###\n",
        "\n",
        "```\n",
        "Total number of alphabets: 30\n",
        "Total number of distinct alphabets are:\n",
        "T = 7\n",
        "o = 4\n",
        "```\n",
        "> **Note:** The expected output above is incomplete.\n"
      ],
      "metadata": {
        "id": "IeiOBf1Tse1c"
      }
    },
    {
      "cell_type": "code",
      "source": [
        "# Input text\n",
        "text = \"To be, or not to be, that is the question.\"\n",
        "\n",
        "# Initialize a dictionary to count individual letter frequencies\n",
        "letter_count = {}\n",
        "\n",
        "# Initialize the total character count (ignoring spaces and punctuation)\n",
        "total_letters = 0\n",
        "\n",
        "# Convert the text to lowercase and iterate over each character using a for loop\n",
        "for char in text.lower():\n",
        "    # Ignore punctuation and spaces\n",
        "    if char.isalpha():\n",
        "        total_letters += 1\n",
        "        # If the character is already in the dictionary, increment its count\n",
        "        if char in letter_count:\n",
        "            letter_count[char] += 1\n",
        "        else:\n",
        "            # If it's a new character, add it to the dictionary with a count of 1\n",
        "            letter_count[char] = 1\n",
        "\n",
        "# Print the total number of letters in the text\n",
        "print(f\"Total number of letters: {total_letters}\")\n",
        "\n",
        "# Specifically print counts for 't' and 'o'\n",
        "print(f\"Total number of distinct alphabets are:\")\n",
        "print(f\"Letter 't' appears {letter_count.get('t', 0)} times.\")\n",
        "print(f\"Letter 'o' appears {letter_count.get('o', 0)} times.\")\n"
      ],
      "metadata": {
        "id": "FprfxHfksh2-",
        "outputId": "3deccdd5-0951-4721-caff-0e4c3fa16c6d",
        "colab": {
          "base_uri": "https://localhost:8080/"
        }
      },
      "execution_count": 40,
      "outputs": [
        {
          "output_type": "stream",
          "name": "stdout",
          "text": [
            "Total number of letters: 30\n",
            "Total number of distinct alphabets are:\n",
            "Letter 't' appears 7 times.\n",
            "Letter 'o' appears 5 times.\n"
          ]
        }
      ]
    },
    {
      "cell_type": "markdown",
      "source": [
        "## Challenges\n",
        "\n",
        "Please describe the challenges you faced during the exercise."
      ],
      "metadata": {
        "id": "xQzjxKdvvbyo"
      }
    },
    {
      "cell_type": "markdown",
      "source": [
        "Onm for the hardes parts of writing while and for loops is makig sure they are formated right."
      ],
      "metadata": {
        "id": "qfJNpTB5EbY4"
      }
    }
  ]
}