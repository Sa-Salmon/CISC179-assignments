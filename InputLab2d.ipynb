{
  "nbformat": 4,
  "nbformat_minor": 0,
  "metadata": {
    "colab": {
      "provenance": [],
      "toc_visible": true,
      "include_colab_link": true
    },
    "kernelspec": {
      "name": "python3",
      "display_name": "Python 3"
    },
    "language_info": {
      "name": "python"
    }
  },
  "cells": [
    {
      "cell_type": "markdown",
      "metadata": {
        "id": "view-in-github",
        "colab_type": "text"
      },
      "source": [
        "<a href=\"https://colab.research.google.com/github/Sa-Salmon/CISC179-assignments/blob/main/InputLab2d.ipynb\" target=\"_parent\"><img src=\"https://colab.research.google.com/assets/colab-badge.svg\" alt=\"Open In Colab\"/></a>"
      ]
    },
    {
      "cell_type": "markdown",
      "source": [
        "# User input in Python\n",
        "\n",
        "## Objective\n",
        "1. Understand how ```input()``` function is applied.\n",
        "\n",
        "## Prerequisite\n",
        "\n",
        "- Python literals lecture & lab\n",
        "- Programming variables lecture\n",
        "\n",
        "## What do you need to complete this exercise?\n",
        "\n",
        "You can perform this exercise in any Python IDE, including JupyterLab or Google Colab.\n"
      ],
      "metadata": {
        "id": "2ITy4ycVFXBq"
      }
    },
    {
      "cell_type": "markdown",
      "source": [
        "### User input\n",
        "\n",
        "a. Write a program that prompts the user to enter the weight of a person in kilograms and outputs the equivalent weight in pounds. (Note that 1 kilogram = 2.2 pounds)."
      ],
      "metadata": {
        "id": "uQxH0KO0tsDc"
      }
    },
    {
      "cell_type": "code",
      "source": [
        "kilo=float( input(\"Enter person's weight in kilograms:\"))\n",
        "lbs= str( kilo*2.2)\n",
        "print(\"there weight in pounds is: \"+lbs)"
      ],
      "metadata": {
        "colab": {
          "base_uri": "https://localhost:8080/"
        },
        "id": "N3wgQQ672rWR",
        "outputId": "4dde8174-16e2-4b14-9d61-390fbe759704"
      },
      "execution_count": 5,
      "outputs": [
        {
          "output_type": "stream",
          "name": "stdout",
          "text": [
            "Enter person's weight in kilograms:55\n",
            "there weight in pounds is: 121.00000000000001\n"
          ]
        }
      ]
    },
    {
      "cell_type": "markdown",
      "source": [
        "b. Interest on a credit card's unpaid balance is calculated using the average daily balance. Suppose that $netBalance$ is the balance shown in the bill, $payment$ is the payment made, $d1$ is the number of days in the billing cycle, and $d2$ is the number of days payment is made before biling cycle. Then, the average daily balance is: $$averageDailybalance = (netBalance \\times d1 - payment \\times d2)/d1$$.\n",
        "\n",
        "If the interest rate per month is, say, 0.0152, then the interest on the unpaid balance is: $interest = averageDailyBalance \\times 0.0152$\n",
        "\n",
        "Write a program that accepts as input $netBalance$, $payment$, $d1$, $d2$, and $interest rate per month$. The program outputs the interest."
      ],
      "metadata": {
        "id": "2ou6B-5b2ws3"
      }
    },
    {
      "cell_type": "code",
      "source": [
        "#inputs\n",
        "netBalance= int(input('Enter your net balance:'))\n",
        "payment= int(input('Enter the amount you would like to pay:'))\n",
        "d1=int(input(\"What is the number of days in your billing cycle?\"))\n",
        "d2=int(input(\"How many days is it till next billing cycle?\"))\n",
        "#calculate the averageDailybalance=(netBalance×d1−payment×d2)/d1\n",
        "avgDailybal=((netBalance*d1)-(payment*d2))/d1\n",
        "#calculate interest=averageDailyBalance×0.0152\n",
        "intrest=str(avgDailybal*0.0152)\n",
        "print(\"Your interest is:\"+ intrest)"
      ],
      "metadata": {
        "id": "pqP70bD02x9h",
        "outputId": "f4783ee1-dad5-4110-8b4b-be75167c7668",
        "colab": {
          "base_uri": "https://localhost:8080/"
        }
      },
      "execution_count": 6,
      "outputs": [
        {
          "output_type": "stream",
          "name": "stdout",
          "text": [
            "Enter your net balance:250\n",
            "Enter the amount you would like to pay:30\n",
            "What is the number of days in your billing cycle?30\n",
            "How many days is it till next billing cycle?10\n",
            "Your interest is:3.648\n"
          ]
        }
      ]
    },
    {
      "cell_type": "markdown",
      "source": [
        "c. Two cars A and B leave an intersection at the same time. Car A travels west at an average speed of x miles per hour and car B travels south at an average speed of y miles per hour. Write a program that prompts the user to enter the average speed of both the cars and the elapsed time (in hours and minutes) and outputs the (shortest) distance between the cars."
      ],
      "metadata": {
        "id": "gAxw_xVk25qO"
      }
    },
    {
      "cell_type": "code",
      "source": [
        "# Write your code here\n",
        "#speed of cars and time\n",
        "carA=int(input(\"How fast is Car A going?(in mph)\"))\n",
        "hourA=int(input(\"How many hours has Car A been driving ?\"))\n",
        "minutesA=int( input(\"How many minutes has Car A been driving ?\"))\n",
        "carB=int(input(\"How fast is Car B going?(in mph)\"))\n",
        "hourB=int(input(\"How many hours has Car B been driving ?\"))\n",
        "minutesB=int( input(\"How many minutes has Car B been driving ?\"))\n",
        "#distance travled\n",
        "DistanceA=((hourA+(minutesA/60))*carA)**2 #distance squared\n",
        "DistanceB=((hourB+(minutesB/60))*carB)**2 #distance squared\n",
        "'''testing to make sure is working so far\n",
        "str(DistanceA)\n",
        "str(DistanceB)\n",
        "print(DistanceA)\n",
        "print(DistanceB)'''\n",
        "#solve for distance btwn cars\n",
        "ShortDist=str((DistanceA+DistanceB)**.5)\n",
        "print(\"The distance between th cars is\"+ShortDist+\"miles.\")"
      ],
      "metadata": {
        "id": "nMPuZXsH26nW",
        "outputId": "e0c7713c-c0d5-47e0-ff3d-755f3b7d3160",
        "colab": {
          "base_uri": "https://localhost:8080/"
        }
      },
      "execution_count": 11,
      "outputs": [
        {
          "output_type": "stream",
          "name": "stdout",
          "text": [
            "How fast is Car A going?(in mph)30\n",
            "How many hours has Car A been driving ?2\n",
            "How many minutes has Car A been driving ?30\n",
            "How fast is Car B going?(in mph)60\n",
            "How many hours has Car B been driving ?3\n",
            "How many minutes has Car B been driving ?0\n",
            "The distance between th cars is195.0miles.\n"
          ]
        }
      ]
    },
    {
      "cell_type": "markdown",
      "source": [
        "### Troubleshooting\n",
        "\n",
        "Please troubleshoot the following issue **without using Python**, and explain your reasoning.\n",
        "\n",
        "a. ```hello = \"hello\"```  \n",
        "b. ```_var = 100```  \n",
        "c. ```!var_1 = 200```  \n",
        "d. ```print = \"print me\"```  \n",
        "e. ```False = 0```  "
      ],
      "metadata": {
        "id": "V0l5fqK-NJ2n"
      }
    },
    {
      "cell_type": "markdown",
      "source": [
        "a. str1=\"hello\" it is shorter to write and makes it easier to see that creating a string variable.\n",
        "\n",
        "b. var_1=100 the name of the variable can not start with a special character.\n",
        "\n",
        "c. var_1=200 the name of the variable can not start with a special character.\n",
        "\n",
        "d. str2=\"print me\" the name of string variable can not be keywords or reserved words.\n",
        "\n",
        "e. int1=0 the name of integer variable can not be keywords or reserved words.Write your answer here"
      ],
      "metadata": {
        "id": "Cz8CqobPNO8n"
      }
    },
    {
      "cell_type": "markdown",
      "source": [
        "## Challenges\n",
        "\n",
        "Please describe the challenges you faced during the exercise."
      ],
      "metadata": {
        "id": "xQzjxKdvvbyo"
      }
    },
    {
      "cell_type": "markdown",
      "source": [
        "A challenge for this lab was figuring out how I was going to solve part C. As I not only needed to figure out the math I needed for it but how I was going to format it properly."
      ],
      "metadata": {
        "id": "qfJNpTB5EbY4"
      }
    }
  ]
}