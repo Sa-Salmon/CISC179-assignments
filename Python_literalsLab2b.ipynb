{
  "nbformat": 4,
  "nbformat_minor": 0,
  "metadata": {
    "colab": {
      "provenance": [],
      "toc_visible": true,
      "include_colab_link": true
    },
    "kernelspec": {
      "name": "python3",
      "display_name": "Python 3"
    },
    "language_info": {
      "name": "python"
    }
  },
  "cells": [
    {
      "cell_type": "markdown",
      "metadata": {
        "id": "view-in-github",
        "colab_type": "text"
      },
      "source": [
        "<a href=\"https://colab.research.google.com/github/Sa-Salmon/CISC179-assignments/blob/main/Python_literalsLab2b.ipynb\" target=\"_parent\"><img src=\"https://colab.research.google.com/assets/colab-badge.svg\" alt=\"Open In Colab\"/></a>"
      ]
    },
    {
      "cell_type": "markdown",
      "source": [
        "# Python literals\n",
        "\n",
        "## Objective\n",
        "1. Understand how Python uses literals.\n",
        "2. Differentiate Integer, Float, Boolean and String data types.\n",
        "3. Understanding how arithmetic operations are performed and recognizing the precedence of operators.\n",
        "\n",
        "## Prerequisite\n",
        "\n",
        "- Python & literals lecture\n",
        "\n",
        "## What do you need to complete this exercise?\n",
        "\n",
        "You can perform this exercise in any Python IDE, including JupyterLab or Google Colab."
      ],
      "metadata": {
        "id": "2ITy4ycVFXBq"
      }
    },
    {
      "cell_type": "markdown",
      "source": [
        "### Literals\n",
        "\n",
        "a) What will the output be without using Python? Aim for 80% accuracy.\n",
        "\n",
        "```print(5 + 2 - 2)```\n",
        "\n",
        "```print(5 / 2)```\n",
        "\n",
        "```print(6 // 2) # // integer division```\n",
        "\n",
        "```print(2. * 3)```\n",
        "\n",
        "```print(2 < 4)```\n",
        "\n",
        "```print(2 >= 2)```\n",
        "\n",
        "```print(\"Hello\"+\"World\")```\n",
        "\n",
        "```print(\"bla\" * 3)```\n",
        "\n",
        "```print(2 * 3 ** 3)```\n",
        "\n",
        "```print(5 * 25 // 13 + 100 / 2 % 13 // 2)```\n",
        "\n",
        "```print(2 * 3 % 5)```\n",
        "\n",
        "```print((2 % -4), (2 % 4), (2 ** 3 ** 2))```\n"
      ],
      "metadata": {
        "id": "uQxH0KO0tsDc"
      }
    },
    {
      "cell_type": "markdown",
      "source": [
        "5\n",
        "\n",
        "2.5\n",
        "\n",
        "3\n",
        "\n",
        "6.\n",
        "\n",
        "true\n",
        "\n",
        "true\n",
        "\n",
        "HelloWorld\n",
        "\n",
        "blablabla\n",
        "\n",
        "54\n",
        "\n",
        "14.0\n",
        "\n",
        "1\n",
        "\n",
        "-2 2 512\n",
        "\n",
        "\n"
      ],
      "metadata": {
        "id": "SwYmxL-1X6Za"
      }
    },
    {
      "cell_type": "markdown",
      "source": [
        "b) Please verify using Python to determine if you have achieved at least 80% correct answers."
      ],
      "metadata": {
        "id": "4HjghxnSJgY1"
      }
    },
    {
      "cell_type": "code",
      "source": [
        "print(5 + 2 - 2)\n",
        "\n",
        "print(5 / 2)\n",
        "\n",
        "print(6 // 2) # // integer division\n",
        "\n",
        "print(2. * 3)\n",
        "\n",
        "print(2 < 4)\n",
        "\n",
        "print(2 >= 2)\n",
        "\n",
        "print(\"Hello\"+\"World\")\n",
        "\n",
        "print(\"bla\" * 3)\n",
        "\n",
        "print(2 * 3 ** 3)\n",
        "\n",
        "print(5 * 25 // 13 + 100 / 2 % 13 // 2)\n",
        "\n",
        "print(2 * 3 % 5)\n",
        "\n",
        "print((2 % -4), (2 % 4), (2 ** 3 ** 2))"
      ],
      "metadata": {
        "id": "tLQh-A7Kt70H",
        "outputId": "c77ee405-f2e0-4018-ff06-1fe24e1bc029",
        "colab": {
          "base_uri": "https://localhost:8080/"
        }
      },
      "execution_count": 1,
      "outputs": [
        {
          "output_type": "stream",
          "name": "stdout",
          "text": [
            "5\n",
            "2.5\n",
            "3\n",
            "6.0\n",
            "True\n",
            "True\n",
            "HelloWorld\n",
            "blablabla\n",
            "54\n",
            "14.0\n",
            "1\n",
            "-2 2 512\n"
          ]
        }
      ]
    },
    {
      "cell_type": "markdown",
      "source": [
        "### Data type\n"
      ],
      "metadata": {
        "id": "58GMVBXqKY89"
      }
    },
    {
      "cell_type": "markdown",
      "source": [
        "a) What will the output be without using Python? Aim for 80% accuracy.\n",
        "```type(\"Hello\")```\n",
        "\n",
        "```type(1+\"2\")```\n",
        "\n",
        "```type(1.)```\n",
        "\n",
        "```type('A')```\n",
        "\n",
        "```type(500)```\n",
        "\n",
        "```type(True)```\n",
        "\n",
        "```type(\"False\")```\n"
      ],
      "metadata": {
        "id": "f3_kJZnHKolp"
      }
    },
    {
      "cell_type": "markdown",
      "source": [
        "error\n",
        "\n",
        "float\n",
        "\n",
        "string\n",
        "\n",
        "integer\n",
        "\n",
        "boaleen\n",
        "\n",
        "string"
      ],
      "metadata": {
        "id": "TZ3zlabVMebV"
      }
    },
    {
      "cell_type": "markdown",
      "source": [
        "b) Please verify using Python to determine if you have achieved at least 80% correct answers."
      ],
      "metadata": {
        "id": "LmwF2Rg2Li7M"
      }
    },
    {
      "cell_type": "code",
      "source": [
        "type(1+\"2\")\n",
        "\n"
      ],
      "metadata": {
        "id": "kLoyOaLLLnSK",
        "outputId": "ba5b4195-fcd0-43d4-b9e9-8ccdc653e2c5",
        "colab": {
          "base_uri": "https://localhost:8080/",
          "height": 158
        }
      },
      "execution_count": 7,
      "outputs": [
        {
          "output_type": "error",
          "ename": "TypeError",
          "evalue": "unsupported operand type(s) for +: 'int' and 'str'",
          "traceback": [
            "\u001b[0;31m---------------------------------------------------------------------------\u001b[0m",
            "\u001b[0;31mTypeError\u001b[0m                                 Traceback (most recent call last)",
            "\u001b[0;32m<ipython-input-7-511393b4333b>\u001b[0m in \u001b[0;36m<cell line: 0>\u001b[0;34m()\u001b[0m\n\u001b[0;32m----> 1\u001b[0;31m \u001b[0mtype\u001b[0m\u001b[0;34m(\u001b[0m\u001b[0;36m1\u001b[0m\u001b[0;34m+\u001b[0m\u001b[0;34m\"2\"\u001b[0m\u001b[0;34m)\u001b[0m\u001b[0;34m\u001b[0m\u001b[0;34m\u001b[0m\u001b[0m\n\u001b[0m\u001b[1;32m      2\u001b[0m \u001b[0;34m\u001b[0m\u001b[0m\n",
            "\u001b[0;31mTypeError\u001b[0m: unsupported operand type(s) for +: 'int' and 'str'"
          ]
        }
      ]
    },
    {
      "cell_type": "code",
      "source": [
        "type(1.)\n"
      ],
      "metadata": {
        "id": "NHQXTj9Bdy2n",
        "outputId": "1f23b774-048b-4021-e3b4-cceed0a67819",
        "colab": {
          "base_uri": "https://localhost:8080/"
        }
      },
      "execution_count": 8,
      "outputs": [
        {
          "output_type": "execute_result",
          "data": {
            "text/plain": [
              "float"
            ]
          },
          "metadata": {},
          "execution_count": 8
        }
      ]
    },
    {
      "cell_type": "code",
      "source": [
        "type('A')\n"
      ],
      "metadata": {
        "id": "2_GxmaUfd1Pw",
        "outputId": "b829b178-957d-416d-cff9-5132b8444f9f",
        "colab": {
          "base_uri": "https://localhost:8080/"
        }
      },
      "execution_count": 9,
      "outputs": [
        {
          "output_type": "execute_result",
          "data": {
            "text/plain": [
              "str"
            ]
          },
          "metadata": {},
          "execution_count": 9
        }
      ]
    },
    {
      "cell_type": "code",
      "source": [
        "type(500)"
      ],
      "metadata": {
        "id": "TXw8bcRod3iy",
        "outputId": "0ea904bc-ec9c-4abf-ce6a-cd0de654832c",
        "colab": {
          "base_uri": "https://localhost:8080/"
        }
      },
      "execution_count": 10,
      "outputs": [
        {
          "output_type": "execute_result",
          "data": {
            "text/plain": [
              "int"
            ]
          },
          "metadata": {},
          "execution_count": 10
        }
      ]
    },
    {
      "cell_type": "code",
      "source": [
        "type(True)\n"
      ],
      "metadata": {
        "id": "wpSXftc3d5F5",
        "outputId": "fe677c76-905e-4333-8912-6dd40232aa4b",
        "colab": {
          "base_uri": "https://localhost:8080/"
        }
      },
      "execution_count": 11,
      "outputs": [
        {
          "output_type": "execute_result",
          "data": {
            "text/plain": [
              "bool"
            ]
          },
          "metadata": {},
          "execution_count": 11
        }
      ]
    },
    {
      "cell_type": "code",
      "source": [
        "type(\"False\")"
      ],
      "metadata": {
        "id": "z51ar_mUd7Qu",
        "outputId": "63cb4b1f-ca3e-4518-fe69-4a016d0296cc",
        "colab": {
          "base_uri": "https://localhost:8080/"
        }
      },
      "execution_count": 12,
      "outputs": [
        {
          "output_type": "execute_result",
          "data": {
            "text/plain": [
              "str"
            ]
          },
          "metadata": {},
          "execution_count": 12
        }
      ]
    },
    {
      "cell_type": "markdown",
      "source": [
        "### Operator precedence"
      ],
      "metadata": {
        "id": "WpQLLdj7Lr4K"
      }
    },
    {
      "cell_type": "markdown",
      "source": [
        "a) Write your arithmetic expression that uses at least one operator from each group. For example ```5 * 25 % 13 + 100 / -2 * 13 // 2 ** 3```"
      ],
      "metadata": {
        "id": "DdtOLAZfLz8X"
      }
    },
    {
      "cell_type": "code",
      "source": [
        "2 * 25 % 10 + 80 / -4 * 12 // 2 ** 3"
      ],
      "metadata": {
        "id": "iJH2iRokL14f",
        "colab": {
          "base_uri": "https://localhost:8080/"
        },
        "outputId": "4a3237af-9c6b-4256-f6ac-4b907548170e"
      },
      "execution_count": 21,
      "outputs": [
        {
          "output_type": "execute_result",
          "data": {
            "text/plain": [
              "-30.0"
            ]
          },
          "metadata": {},
          "execution_count": 21
        }
      ]
    },
    {
      "cell_type": "markdown",
      "source": [
        "b) What will the output be without using Python after writing your arithmetic expression? Use the table below for your reference."
      ],
      "metadata": {
        "id": "C8NjhQrfMILL"
      }
    },
    {
      "cell_type": "markdown",
      "source": [
        "-30.0\n",
        "\n",
        "\n"
      ],
      "metadata": {
        "id": "NW_2TuA4ekwR"
      }
    },
    {
      "cell_type": "markdown",
      "source": [
        "| Priority | Operator                                                     | Notes                    |\n",
        "| :------- | :----------------------------------------------------------- | :----------------------- |\n",
        "| 1        | `**`                                                         | Right to left evaluation |\n",
        "| 2        | `+`, `-` (note: unary operators located next to the right of the power operator bind more strongly) | unary                    |\n",
        "| 3        | `*`, `/`, `//`, `%`                                          | Left to right evaluation |\n",
        "| 4        | `+`, `-`                                                     | binary                   |"
      ],
      "metadata": {
        "id": "DqRqRrNsMPRp"
      }
    },
    {
      "cell_type": "markdown",
      "source": [
        "Answer here"
      ],
      "metadata": {
        "id": "cKsvL_1JMRVJ"
      }
    },
    {
      "cell_type": "markdown",
      "source": [
        "c) Please verify using Python to determine if you have done it correctly."
      ],
      "metadata": {
        "id": "9micAN0HM2VI"
      }
    },
    {
      "cell_type": "code",
      "source": [
        "2 * 25 % 10 + 80 / -4 * 12 // 2 ** 3"
      ],
      "metadata": {
        "outputId": "4a3237af-9c6b-4256-f6ac-4b907548170e",
        "colab": {
          "base_uri": "https://localhost:8080/"
        },
        "id": "qDpgFV1wj6x0"
      },
      "execution_count": null,
      "outputs": [
        {
          "output_type": "execute_result",
          "data": {
            "text/plain": [
              "-30.0"
            ]
          },
          "metadata": {},
          "execution_count": 21
        }
      ]
    },
    {
      "cell_type": "markdown",
      "source": [
        "## Challenges\n",
        "\n",
        "Please describe the challenges you faced during the exercise."
      ],
      "metadata": {
        "id": "xQzjxKdvvbyo"
      }
    },
    {
      "cell_type": "markdown",
      "source": [
        "The hardest part was figuering out the arithmetic expression and making sure when you were soling it by hand that you we doing it in the right order."
      ],
      "metadata": {
        "id": "qfJNpTB5EbY4"
      }
    }
  ]
}