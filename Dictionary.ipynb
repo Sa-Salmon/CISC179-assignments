{
  "nbformat": 4,
  "nbformat_minor": 0,
  "metadata": {
    "colab": {
      "provenance": [],
      "include_colab_link": true
    },
    "kernelspec": {
      "name": "python3",
      "display_name": "Python 3"
    },
    "language_info": {
      "name": "python"
    }
  },
  "cells": [
    {
      "cell_type": "markdown",
      "metadata": {
        "id": "view-in-github",
        "colab_type": "text"
      },
      "source": [
        "<a href=\"https://colab.research.google.com/github/Sa-Salmon/CISC179-assignments/blob/main/Dictionary.ipynb\" target=\"_parent\"><img src=\"https://colab.research.google.com/assets/colab-badge.svg\" alt=\"Open In Colab\"/></a>"
      ]
    },
    {
      "cell_type": "markdown",
      "source": [
        "# Dictionary in Python\n",
        "In Python, a dictionary is a built-in data structure that stores data in key-value pairs. It is an unordered, mutable (changeable) collection, where each key must be unique and immutable (e.g., string, number, or tuple), while the value can be of any data type.\n",
        "\n",
        "## Objective\n",
        "- Understand how to create dictionary in Python\n",
        "- Apply various methods on a dictionary\n",
        "- Troubleshoot dictionary\n",
        "\n",
        "## Prerequisite\n",
        "\n",
        "- Lists & tuples\n",
        "- Decision and loops\n",
        "- Input functions\n",
        "\n",
        "\n",
        "## What do you need to complete this exercise?\n",
        "\n",
        "You can perform this exercise in any Python IDE, including JupyterLab or Google Colab.\n"
      ],
      "metadata": {
        "id": "2ITy4ycVFXBq"
      }
    },
    {
      "cell_type": "markdown",
      "source": [
        "# 1. Creating and accessing dictionary\n",
        "\n",
        "1a) Create dictionary of your choice of keys and values. Create dictionary size of 10 elements."
      ],
      "metadata": {
        "id": "uQxH0KO0tsDc"
      }
    },
    {
      "cell_type": "code",
      "source": [
        "my_dict = {\n",
        "    \"name\": \"Sally\",\n",
        "    \"age\": 25,\n",
        "    \"city\": \"Seatlle\",\n",
        "    \"country\": \"USA\",\n",
        "    \"email\": \"SallyMay@example.com\",\n",
        "    \"phone\": \"123-456-7890\",\n",
        "    \"occupation\": \"Software Engineer\",\n",
        "    \"company\": \"TechCorp\",\n",
        "    \"hobby\": \"Art\",\n",
        "    \"language\": \"Python\"\n",
        "}\n",
        "\n",
        "for key, value in my_dict.items():\n",
        "    print(f\"{key}: {value}\")\n"
      ],
      "metadata": {
        "id": "rRTflD1C9mjt",
        "outputId": "30699c81-3884-417e-f3da-e85bd38260c0",
        "colab": {
          "base_uri": "https://localhost:8080/"
        }
      },
      "execution_count": 10,
      "outputs": [
        {
          "output_type": "stream",
          "name": "stdout",
          "text": [
            "name: Sally\n",
            "age: 25\n",
            "city: Seatlle\n",
            "country: USA\n",
            "email: SallyMay@example.com\n",
            "phone: 123-456-7890\n",
            "occupation: Software Engineer\n",
            "company: TechCorp\n",
            "hobby: Art\n",
            "language: Python\n"
          ]
        }
      ]
    },
    {
      "cell_type": "markdown",
      "source": [
        "1b. Take inputs from a user and add them in a dictionary called ```my_user_dict```\n",
        "\n",
        "Here is the example of an user input:\n",
        "\n",
        "SSN: 111-222-3333\n",
        "\n",
        "Name: Steve Hawkins\n",
        "\n",
        "The code continue to take user input and provide an option at the end of the user input; \"Do you want to continue (Y/N)\"\n",
        "\n",
        "Identify how many keys you need to create a dictionary.\n",
        "\n",
        "__Restrictions: Do not use functions and/or exceptions in this exercise__"
      ],
      "metadata": {
        "id": "0jkTuRdlA6sk"
      }
    },
    {
      "cell_type": "code",
      "source": [
        "my_user_dict = {}  # Initialize an empty dictionary\n",
        "\n",
        "while True:\n",
        "    # Taking user inputs\n",
        "    ssn = input(\"Enter SSN: \")\n",
        "    name = input(\"Enter Name: \")\n",
        "\n",
        "    # Storing data in the dictionary\n",
        "    my_user_dict[\"SSN\"] = ssn\n",
        "    my_user_dict[\"Name\"] = name\n",
        "\n",
        "    # Asking if the user wants to continue\n",
        "    choice = input(\"Do you want to continue (Y/N)? \").strip().upper()\n",
        "\n",
        "    # Exit loop if user enters 'N'\n",
        "    if choice == \"N\":\n",
        "        break\n",
        "\n",
        "print(\"\\nFinal Dictionary:\", my_user_dict)\n",
        "\n"
      ],
      "metadata": {
        "id": "8ZIVOfAMQt2Z",
        "outputId": "f3f80380-d33c-4257-e06f-97de2c953af8",
        "colab": {
          "base_uri": "https://localhost:8080/"
        }
      },
      "execution_count": 7,
      "outputs": [
        {
          "output_type": "stream",
          "name": "stdout",
          "text": [
            "Enter SSN: 111-222-3333\n",
            "Enter Name: Steve Hawkins\n",
            "Do you want to continue (Y/N)? n\n",
            "\n",
            "Final Dictionary: {'SSN': '111-222-3333', 'Name': 'Steve Hawkins'}\n"
          ]
        }
      ]
    },
    {
      "cell_type": "markdown",
      "source": [
        "In order to create this dictionary you need at least 2 keys"
      ],
      "metadata": {
        "id": "kgdYEaJ0jZpv"
      }
    },
    {
      "cell_type": "markdown",
      "source": [
        "1c. Based on the given tuple, create a code which checks for valid key & value pairs, and check for key duplication.\n",
        "\n",
        "The code should provide assistance to a user to correct the error. For key duplication, ask user to change the key\n",
        "\n",
        "__Restrictions: Do not use functions and/or exceptions in this exercise__"
      ],
      "metadata": {
        "id": "J6CAWQq0HBv6"
      }
    },
    {
      "cell_type": "code",
      "source": [
        "# List of tuples where each tuple represents a key-value pair\n",
        "\n",
        "a = [(\"a\", 1), (\"b\", 2), (\"c\", 3)]\n",
        "\n",
        "# Convert the list of tuples into a dictionary\n",
        "\n",
        "res = dict(a)\n",
        "\n",
        "print(res)"
      ],
      "metadata": {
        "id": "cF0UyMIqQ8V3",
        "colab": {
          "base_uri": "https://localhost:8080/"
        },
        "outputId": "18bb3632-1eb7-4ca3-8a1e-1833028e49e2"
      },
      "execution_count": null,
      "outputs": [
        {
          "output_type": "stream",
          "name": "stdout",
          "text": [
            "{'a': 1, 'b': 2, 'c': 3}\n"
          ]
        }
      ]
    },
    {
      "cell_type": "code",
      "source": [
        "# List of tuples representing key-value pairs\n",
        "a = [(\"a\", 1), (\"b\", 2), (\"c\", 3), (\"b\", 4), (\"d\", 5)]\n",
        "\n",
        "\n",
        "res = {}\n",
        "\n",
        "\n",
        "# Iterate over each key-value pair in the list\n",
        "for key, value in a:\n",
        "    if key in res:  # Check if key already exists\n",
        "        print(f\"Error: Duplicate key '{key}' detected.\")\n",
        "        new_key = input(f\"Please enter a unique key instead of '{key}': \").strip()\n",
        "\n",
        "        # Ensure new key is not also a duplicate\n",
        "        while new_key in res:\n",
        "            print(f\"'{new_key}' is also a duplicate. Try again.\")\n",
        "            new_key = input(\"Enter a unique key: \").strip()\n",
        "\n",
        "        key = new_key  # Update key with new unique key\n",
        "\n",
        "    # Add the key-value pair to the dictionary\n",
        "    res[key] = value\n",
        "\n",
        "# Print the final dictionary after resolving duplicates\n",
        "print(\"\\nFinal dictionary:\", res)\n"
      ],
      "metadata": {
        "id": "_s9f6zcYlrQn",
        "outputId": "e7fdac08-3261-4c81-a3e8-65c93d127087",
        "colab": {
          "base_uri": "https://localhost:8080/"
        }
      },
      "execution_count": 14,
      "outputs": [
        {
          "output_type": "stream",
          "name": "stdout",
          "text": [
            "Processing key-value pairs...\n",
            "\n",
            "Error: Duplicate key 'b' detected.\n",
            "Please enter a unique key instead of 'b': B\n",
            "\n",
            "Final dictionary: {'a': 1, 'b': 2, 'c': 3, 'B': 4, 'd': 5}\n"
          ]
        }
      ]
    },
    {
      "cell_type": "code",
      "source": [
        "# Given list of tuples (key-value pairs)\n",
        "my_list = [\n",
        "    (\"Name\", \"Sarah Connor\"),\n",
        "    (\"Date of birth\", \"1 Jan 1980\"),\n",
        "    (\"Address\", \"1000 Black Mountain Drive\", 92126),\n",
        "    (\"Name\", \"Jim Hawkins\")\n",
        "]\n",
        "\n",
        "# Initialize an empty dictionary\n",
        "res = {}\n",
        "\n",
        "print(\"Processing key-value pairs...\\n\")\n",
        "\n",
        "# Iterate over the list of tuples\n",
        "for item in my_list:\n",
        "    key = item[0]\n",
        "    value = item[1:]\n",
        "\n",
        "    # If value contains more than one element, store as a tuple\n",
        "    value = value[0] if len(value) == 1 else value\n",
        "\n",
        "    # Check for duplicate keys\n",
        "    if key in res:\n",
        "        print(f\"Error: Duplicate key '{key}' detected.\")\n",
        "        new_key = input(f\"Please enter a unique key instead of '{key}': \").strip()\n",
        "\n",
        "        # Ensure the new key is also unique\n",
        "        while new_key in res:\n",
        "            print(f\"'{new_key}' is also a duplicate. Try again.\")\n",
        "            new_key = input(\"Enter a unique key: \").strip()\n",
        "\n",
        "        key = new_key  # Replace with user-provided unique key\n",
        "\n",
        "    # Add the key-value pair to the dictionary\n",
        "    res[key] = value\n",
        "\n",
        "# Print the final dictionary after resolving duplicates\n",
        "print(\"\\nFinal dictionary:\", res)\n",
        "\n"
      ],
      "metadata": {
        "colab": {
          "base_uri": "https://localhost:8080/"
        },
        "id": "zhseVMcKL-89",
        "outputId": "3359d629-dccd-4ce9-e53a-75f146eedbda"
      },
      "execution_count": 20,
      "outputs": [
        {
          "output_type": "stream",
          "name": "stdout",
          "text": [
            "Processing key-value pairs...\n",
            "\n",
            "Error: Duplicate key 'Name' detected.\n",
            "Please enter a unique key instead of 'Name': name\n",
            "\n",
            "Final dictionary: {'Name': 'Sarah Connor', 'Date of birth': '1 Jan 1980', 'Address': ('1000 Black Mountain Drive', 92126), 'name': 'Jim Hawkins'}\n"
          ]
        }
      ]
    },
    {
      "cell_type": "markdown",
      "source": [
        "1d. Convert the following list into a dictionary. Automate the process by using the loop.\n",
        "\n",
        "__Restrictions: Do not use functions and/or exceptions in this exercise__"
      ],
      "metadata": {
        "id": "h7Jc8xH-JEmh"
      }
    },
    {
      "cell_type": "code",
      "source": [
        "my_list = [10012,\"Mango\",43221,\"Gala apple\",14321,\"Banana\",10011,\"Watermelon\"]\n",
        "\n",
        "new_list={}\n",
        "for i in range (0,len(my_list),2):\n",
        " key= my_list[i]\n",
        " value= my_list[i+1]\n",
        " new_list[key]=value\n",
        "print(new_list)"
      ],
      "metadata": {
        "id": "Nfv-ATQUKlW2",
        "outputId": "e0c33cd1-c156-4eaf-8a6f-408db501aa5c",
        "colab": {
          "base_uri": "https://localhost:8080/"
        }
      },
      "execution_count": 26,
      "outputs": [
        {
          "output_type": "stream",
          "name": "stdout",
          "text": [
            "{10012: 'Mango', 43221: 'Gala apple', 14321: 'Banana', 10011: 'Watermelon'}\n"
          ]
        }
      ]
    },
    {
      "cell_type": "code",
      "source": [],
      "metadata": {
        "id": "J2b_n4lenOii"
      },
      "execution_count": null,
      "outputs": []
    },
    {
      "cell_type": "markdown",
      "source": [
        "1e. Use the following text and count the number of words using dictionary. Remember The or the counts as 2.\n",
        "\n",
        "**The tiger (Panthera tigris) is a large cat and a member of the genus Panthera native to Asia. It has a powerful, muscular body with a large head and paws, a long tail and orange fur with black, mostly vertical stripes. It is traditionally classified into nine recent subspecies, though some recognise only two subspecies, mainland Asian tigers and the island tigers of the Sunda Islands.**"
      ],
      "metadata": {
        "id": "lLeAeQwmSHWL"
      }
    },
    {
      "cell_type": "markdown",
      "source": [
        "# 2. Troubleshooting"
      ],
      "metadata": {
        "id": "tJlIQIYjBPLX"
      }
    },
    {
      "cell_type": "markdown",
      "source": [
        "2a. Change the content of ```d_copy``` and make sure the content does not affect the ```d_orig``` dictionary. Verify using the code."
      ],
      "metadata": {
        "id": "eF1Xhaw4M1CG"
      }
    },
    {
      "cell_type": "code",
      "source": [
        "d_orig = {123:\"Coconut\"}\n",
        "d_copy = d_orig\n",
        "print(d_orig)\n",
        "print(d_copy)"
      ],
      "metadata": {
        "id": "70JnWsa6zE0M",
        "colab": {
          "base_uri": "https://localhost:8080/"
        },
        "outputId": "a62f0918-3c3a-46af-f703-cc2907929ade"
      },
      "execution_count": 29,
      "outputs": [
        {
          "output_type": "stream",
          "name": "stdout",
          "text": [
            "{123: 'Coconut'}\n",
            "{123: 'Coconut'}\n"
          ]
        }
      ]
    },
    {
      "cell_type": "code",
      "source": [
        "d_orig = {123:\"Coconut\"}\n",
        "d_copy = d_orig\n",
        "d_copy[123]=\"Strawberry\"\n",
        "print(d_orig)\n",
        "print(d_copy)"
      ],
      "metadata": {
        "id": "w93b1OeVNYuf",
        "outputId": "c5074747-d075-4b90-8900-ecb0cac495d8",
        "colab": {
          "base_uri": "https://localhost:8080/"
        }
      },
      "execution_count": 37,
      "outputs": [
        {
          "output_type": "stream",
          "name": "stdout",
          "text": [
            "{123: 'Strawberry'}\n",
            "{123: 'Strawberry'}\n"
          ]
        }
      ]
    },
    {
      "cell_type": "markdown",
      "source": [
        "2b. If it changes the content of the original dictionary, then propose how can you solve this problem."
      ],
      "metadata": {
        "id": "O0-uz6MdzJ4a"
      }
    },
    {
      "cell_type": "code",
      "source": [
        "d_orig = {123:\"Coconut\"}\n",
        "d_copy = d_orig.copy()\n",
        "d_copy[123]=\"Strawberry\"\n",
        "print(d_orig)\n",
        "print(d_copy)"
      ],
      "metadata": {
        "id": "xyS0VVapNvEv",
        "outputId": "35f80301-1a76-49b0-8982-e49b9fb91fc0",
        "colab": {
          "base_uri": "https://localhost:8080/"
        }
      },
      "execution_count": 36,
      "outputs": [
        {
          "output_type": "stream",
          "name": "stdout",
          "text": [
            "{123: 'Coconut'}\n",
            "{123: 'Strawberry'}\n"
          ]
        }
      ]
    },
    {
      "cell_type": "markdown",
      "source": [
        "2c. Write a code that generates the following error and explain why there is such an error.\n",
        "```\n",
        "TypeError: unhashable type: 'list'\n",
        "```"
      ],
      "metadata": {
        "id": "6vXaWJBczn5u"
      }
    },
    {
      "cell_type": "code",
      "source": [
        "fruit_list={[\"apple\",\"bannana\"]:\"fruits\"}\n",
        "fruit_list"
      ],
      "metadata": {
        "id": "dUoHv95LOCYr",
        "outputId": "1986b500-fc19-4343-9727-45dc6a40d880",
        "colab": {
          "base_uri": "https://localhost:8080/",
          "height": 159
        }
      },
      "execution_count": 38,
      "outputs": [
        {
          "output_type": "error",
          "ename": "TypeError",
          "evalue": "unhashable type: 'list'",
          "traceback": [
            "\u001b[0;31m---------------------------------------------------------------------------\u001b[0m",
            "\u001b[0;31mTypeError\u001b[0m                                 Traceback (most recent call last)",
            "\u001b[0;32m<ipython-input-38-91751f4e7985>\u001b[0m in \u001b[0;36m<cell line: 0>\u001b[0;34m()\u001b[0m\n\u001b[0;32m----> 1\u001b[0;31m \u001b[0mfruit_list\u001b[0m\u001b[0;34m=\u001b[0m\u001b[0;34m{\u001b[0m\u001b[0;34m[\u001b[0m\u001b[0;34m\"apple\"\u001b[0m\u001b[0;34m,\u001b[0m\u001b[0;34m\"bannana\"\u001b[0m\u001b[0;34m]\u001b[0m\u001b[0;34m:\u001b[0m\u001b[0;34m\"fruits\"\u001b[0m\u001b[0;34m}\u001b[0m\u001b[0;34m\u001b[0m\u001b[0;34m\u001b[0m\u001b[0m\n\u001b[0m\u001b[1;32m      2\u001b[0m \u001b[0mfruit_list\u001b[0m\u001b[0;34m\u001b[0m\u001b[0;34m\u001b[0m\u001b[0m\n",
            "\u001b[0;31mTypeError\u001b[0m: unhashable type: 'list'"
          ]
        }
      ]
    },
    {
      "cell_type": "markdown",
      "source": [
        "Keys in Dictionaries must be immutable so that their hash values remain the same. However the list type are mutable therefore can not be used as keys."
      ],
      "metadata": {
        "id": "LDVkLnDTtWNP"
      }
    },
    {
      "cell_type": "markdown",
      "source": [
        "## Challenges\n",
        "\n",
        "Please describe the challenges you faced during the exercise."
      ],
      "metadata": {
        "id": "xQzjxKdvvbyo"
      }
    },
    {
      "cell_type": "markdown",
      "source": [
        "One of the challenges I faced was making sure to use a colon to separate the keys and their values, rather than a semicolon. Another challenge I faced was figuring out the best way to convert the different lists into dictionaries."
      ],
      "metadata": {
        "id": "qfJNpTB5EbY4"
      }
    }
  ]
}