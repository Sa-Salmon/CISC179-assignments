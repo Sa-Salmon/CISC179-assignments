{
  "nbformat": 4,
  "nbformat_minor": 0,
  "metadata": {
    "colab": {
      "provenance": [],
      "include_colab_link": true
    },
    "kernelspec": {
      "name": "python3",
      "display_name": "Python 3"
    },
    "language_info": {
      "name": "python"
    }
  },
  "cells": [
    {
      "cell_type": "markdown",
      "metadata": {
        "id": "view-in-github",
        "colab_type": "text"
      },
      "source": [
        "<a href=\"https://colab.research.google.com/github/Sa-Salmon/CISC179-assignments/blob/main/Lists.ipynb\" target=\"_parent\"><img src=\"https://colab.research.google.com/assets/colab-badge.svg\" alt=\"Open In Colab\"/></a>"
      ]
    },
    {
      "cell_type": "markdown",
      "source": [
        "# Lists in Python\n",
        "A list is an ordered collection of elements, and each element can be of any data type, such as numbers, strings, Booleans, or even other lists. In Python, lists are mutable, meaning their contents can be changed. Lists are particularly useful when you want to handle a group of related values.\n",
        "\n",
        "## Objective\n",
        "- Comprehend the application of lists\n",
        "- Understand how a list uses memory\n",
        "- Apply various operations on a list\n",
        "\n",
        "## Prerequisite\n",
        "\n",
        "- Decision statements\n",
        "- Input functions\n",
        "- Python literals\n",
        "- Programming variables\n",
        "\n",
        "\n",
        "## What do you need to complete this exercise?\n",
        "\n",
        "You can perform this exercise in any Python IDE, including JupyterLab or Google Colab.\n"
      ],
      "metadata": {
        "id": "2ITy4ycVFXBq"
      }
    },
    {
      "cell_type": "markdown",
      "source": [
        "a) a. Using a range function, generate a list of 100 integers and assign the list to ```my_list```. Verify that the variable ```my_list``` data type is list. Use your favorite four methods and apply on the list. You can find the methods on [Python Docs](https://docs.python.org/3/tutorial/datastructures.html)"
      ],
      "metadata": {
        "id": "uQxH0KO0tsDc"
      }
    },
    {
      "cell_type": "code",
      "source": [
        "# Write your code here.\n",
        "my_list = list(range(100))\n",
        "print(type(my_list))\n"
      ],
      "metadata": {
        "id": "rRTflD1C9mjt",
        "outputId": "4a67dc58-9a14-4233-f26b-ee5f02280902",
        "colab": {
          "base_uri": "https://localhost:8080/"
        }
      },
      "execution_count": 1,
      "outputs": [
        {
          "output_type": "stream",
          "name": "stdout",
          "text": [
            "<class 'list'>\n"
          ]
        }
      ]
    },
    {
      "cell_type": "markdown",
      "source": [
        "b. Suppose that you have a list of 10 items long. How might you move the last three items from the end of the list to the beginning, keeping them in the same order?"
      ],
      "metadata": {
        "id": "0jkTuRdlA6sk"
      }
    },
    {
      "cell_type": "code",
      "source": [
        "# Write your code here.\n",
        "my_list = [1, 2, 3, 4, 5, 6, 7, 8, 9, 10]\n",
        "# Move the last three items to the beginning\n",
        "new_list = my_list[-3:] + my_list[:-3]\n",
        "\n",
        "print(new_list)"
      ],
      "metadata": {
        "id": "8ZIVOfAMQt2Z",
        "outputId": "f8b643df-b900-41a5-a13a-2956427778db",
        "colab": {
          "base_uri": "https://localhost:8080/"
        }
      },
      "execution_count": 2,
      "outputs": [
        {
          "output_type": "stream",
          "name": "stdout",
          "text": [
            "[8, 9, 10, 1, 2, 3, 4, 5, 6, 7]\n"
          ]
        }
      ]
    },
    {
      "cell_type": "markdown",
      "source": [
        "c. What would be the result of ```len([[1,2]] * 3)```? Try to do it without coding and then verify using Python."
      ],
      "metadata": {
        "id": "Wv1LOaouA_Gq"
      }
    },
    {
      "cell_type": "markdown",
      "source": [
        "3"
      ],
      "metadata": {
        "id": "TiYD9u4EH_AO"
      }
    },
    {
      "cell_type": "code",
      "source": [
        "# Write your code here.\n",
        "len([[1,2]]*3)"
      ],
      "metadata": {
        "id": "cF0UyMIqQ8V3",
        "outputId": "5255df0e-6a3b-4a6c-af23-9264aa99b205",
        "colab": {
          "base_uri": "https://localhost:8080/"
        }
      },
      "execution_count": 3,
      "outputs": [
        {
          "output_type": "execute_result",
          "data": {
            "text/plain": [
              "3"
            ]
          },
          "metadata": {},
          "execution_count": 3
        }
      ]
    },
    {
      "cell_type": "markdown",
      "source": [
        "d. Create a list ```my-list-ten``` of 10 items that includes some duplicate entries. Then, generate a second list ```my-list-ten-mem``` that contains the memory addresses of the items from the list ```my-list-ten```. Use Python to research and identify the unique and duplicate memory addresses."
      ],
      "metadata": {
        "id": "0IWZsl7LBGvD"
      }
    },
    {
      "cell_type": "code",
      "source": [
        "# Write your code here.\n",
        "# Create a list with duplicates\n",
        "my_list_ten = [1, 2, 3, 4, 5, 1, 3, 6, 7, 8]\n",
        "\n",
        "# Generate a list of memory addresses for each item in my_list_ten\n",
        "my_list_ten_mem = [id(item) for item in my_list_ten]\n",
        "\n",
        "# Print both the list and the memory addresses list\n",
        "print(\"Original List:\", my_list_ten)\n",
        "print(\"Memory Addresses List:\", my_list_ten_mem)\n",
        "\n",
        "# Identify unique and duplicate memory addresses\n",
        "unique_mem_addresses = set(my_list_ten_mem)\n",
        "duplicate_mem_addresses = [addr for addr in my_list_ten_mem if my_list_ten_mem.count(addr) > 1]\n",
        "\n",
        "print(\"Unique Memory Addresses:\", unique_mem_addresses)\n",
        "print(\"Duplicate Memory Addresses:\", duplicate_mem_addresses)\n"
      ],
      "metadata": {
        "id": "S5kO371-Q_NL",
        "outputId": "5a5383e4-2215-4e56-fbd2-e3f34fce2011",
        "colab": {
          "base_uri": "https://localhost:8080/"
        }
      },
      "execution_count": 7,
      "outputs": [
        {
          "output_type": "stream",
          "name": "stdout",
          "text": [
            "Original List: [1, 2, 3, 4, 5, 1, 3, 6, 7, 8]\n",
            "Memory Addresses List: [10750856, 10750888, 10750920, 10750952, 10750984, 10750856, 10750920, 10751016, 10751048, 10751080]\n",
            "Unique Memory Addresses: {10750856, 10750984, 10750952, 10750888, 10750920, 10751016, 10751048, 10751080}\n",
            "Duplicate Memory Addresses: [10750856, 10750920, 10750856, 10750920]\n"
          ]
        }
      ]
    },
    {
      "cell_type": "markdown",
      "source": [
        "e. Delete the list ```my-list-ten``` created in the above step."
      ],
      "metadata": {
        "id": "tJlIQIYjBPLX"
      }
    },
    {
      "cell_type": "code",
      "source": [
        "# Write your code here.\n",
        "del my_list_ten"
      ],
      "metadata": {
        "id": "fQr5X9N0RceU"
      },
      "execution_count": 8,
      "outputs": []
    },
    {
      "cell_type": "markdown",
      "source": [
        "f. Create a new list ```my-new-list``` of the same 10 items used in ```my-list-ten```. Generate memory addresses of the items in ```my-new-list``` and compare them with the memory addresses in ```my-list-ten-mem```. Discuss what do you observe."
      ],
      "metadata": {
        "id": "jflVX2GHBT3-"
      }
    },
    {
      "cell_type": "code",
      "source": [
        "# Write your code here.\n",
        "# Recreate my_list_ten with the same items (as my_list_ten was deleted earlier)\n",
        "my_new_list = [1, 2, 3, 4, 5, 1, 3, 6, 7, 8]\n",
        "\n",
        "# Generate memory addresses for the items in my_new_list\n",
        "my_new_list_mem = [id(item) for item in my_new_list]\n",
        "\n",
        "# Print both memory address lists for comparison\n",
        "print(\"Memory Addresses of my_new_list:\", my_new_list_mem)\n",
        "print(\"Memory Addresses of my_list_ten (before deletion):\", my_list_ten_mem)\n",
        "\n",
        "# Compare the memory addresses\n",
        "addresses_are_identical = my_new_list_mem == my_list_ten_mem\n",
        "print(\"Are the memory addresses identical?\", addresses_are_identical)\n"
      ],
      "metadata": {
        "id": "QacofGe4RdZX",
        "outputId": "b5fb804f-468e-4b93-b14c-b1d00ffd9da5",
        "colab": {
          "base_uri": "https://localhost:8080/"
        }
      },
      "execution_count": 9,
      "outputs": [
        {
          "output_type": "stream",
          "name": "stdout",
          "text": [
            "Memory Addresses of my_new_list: [10750856, 10750888, 10750920, 10750952, 10750984, 10750856, 10750920, 10751016, 10751048, 10751080]\n",
            "Memory Addresses of my_list_ten (before deletion): [10750856, 10750888, 10750920, 10750952, 10750984, 10750856, 10750920, 10751016, 10751048, 10751080]\n",
            "Are the memory addresses identical? True\n"
          ]
        }
      ]
    },
    {
      "cell_type": "markdown",
      "source": [
        "g. Suppose that you have the following list: ```x = [[1, 2, 3], [4, 5, 6], [7, 8, 9]]```. What code could you use to get a copy ```y``` of that list in which you could change the elements without the side effect of changing the contents of ```x```?"
      ],
      "metadata": {
        "id": "BRZq7VPZBYsN"
      }
    },
    {
      "cell_type": "code",
      "source": [
        "x = [[1, 2, 3], [4, 5, 6], [7, 8, 9]]\n",
        "# Write your code here.\n",
        "import copy\n",
        "\n",
        "# Original list\n",
        "x = [[1, 2, 3], [4, 5, 6], [7, 8, 9]]\n",
        "\n",
        "# Create a deep copy of the list\n",
        "y = copy.deepcopy(x)\n",
        "\n",
        "# Modify y and check if x remains unchanged\n",
        "y[0][0] = 1\n",
        "\n",
        "print(\"x:\", x)  # Original list\n",
        "print(\"y:\", y)  # Modified copy\n"
      ],
      "metadata": {
        "id": "5M7ksW8xsC3k",
        "outputId": "32d3e087-b3ad-45ff-ee16-521eccc80237",
        "colab": {
          "base_uri": "https://localhost:8080/"
        }
      },
      "execution_count": 11,
      "outputs": [
        {
          "output_type": "stream",
          "name": "stdout",
          "text": [
            "x: [[1, 2, 3], [4, 5, 6], [7, 8, 9]]\n",
            "y: [[1, 2, 3], [4, 5, 6], [7, 8, 9]]\n"
          ]
        }
      ]
    },
    {
      "cell_type": "markdown",
      "source": [
        "h. Is it possible to use multiple expressions within a list comprehension?"
      ],
      "metadata": {
        "id": "LUIwtfcJBnsq"
      }
    },
    {
      "cell_type": "markdown",
      "source": [
        "yes it is possible"
      ],
      "metadata": {
        "id": "gbBymb1ZJJV_"
      }
    },
    {
      "cell_type": "markdown",
      "source": [
        "i. Using a list comprehension, count how many spaces are in the following statement.\n",
        "\"To be, or not to be, this is the question\""
      ],
      "metadata": {
        "id": "dV-_5n78BxH4"
      }
    },
    {
      "cell_type": "code",
      "source": [
        "# Write your code here.\n",
        "sentence = \"To be, or not to be, this is the question\"\n",
        "spaces_count = sum([1 for char in sentence if char == ' '])\n",
        "print(spaces_count)\n"
      ],
      "metadata": {
        "id": "1C6WRbQ1I_up",
        "outputId": "ad1233ef-3d84-4b7f-9f37-dc1306aed66f",
        "colab": {
          "base_uri": "https://localhost:8080/"
        }
      },
      "execution_count": 12,
      "outputs": [
        {
          "output_type": "stream",
          "name": "stdout",
          "text": [
            "9\n"
          ]
        }
      ]
    },
    {
      "cell_type": "markdown",
      "source": [
        "j. Choose any 5 lists operations of your choice from the link https://docs.python.org/3/tutorial/datastructures.html\n"
      ],
      "metadata": {
        "id": "QJQ3mnTyIz7c"
      }
    },
    {
      "cell_type": "code",
      "source": [
        "# Write your code here.\n",
        "list.append(x)\n",
        "list.extend (iterable)\n",
        "list.insert(i,x)\n",
        "list.remove(x)\n",
        "list.count(x)\n",
        "\n"
      ],
      "metadata": {
        "id": "7JcT_W26B0Nu"
      },
      "execution_count": null,
      "outputs": []
    },
    {
      "cell_type": "markdown",
      "source": [
        "## Challenges\n",
        "\n",
        "Please describe the challenges you faced during the exercise."
      ],
      "metadata": {
        "id": "xQzjxKdvvbyo"
      }
    },
    {
      "cell_type": "markdown",
      "source": [
        "One of the challenges I faced was the memory address part."
      ],
      "metadata": {
        "id": "qfJNpTB5EbY4"
      }
    }
  ]
}